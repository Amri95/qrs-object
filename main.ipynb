{
 "cells": [
  {
   "cell_type": "code",
   "execution_count": 228,
   "metadata": {},
   "outputs": [],
   "source": [
    "import cv2\n",
    "import wfdb as wf\n",
    "import numpy as np\n",
    "import pandas as pd\n",
    "from glob import glob\n",
    "from tqdm import tqdm\n",
    "from lxml import etree\n",
    "from matplotlib import pyplot as plt\n",
    "\n",
    "%matplotlib inline"
   ]
  },
  {
   "cell_type": "code",
   "execution_count": 229,
   "metadata": {
    "collapsed": true
   },
   "outputs": [],
   "source": [
    "# Prepare data access\n",
    "paths = glob('data/mitdb/*.dat')\n",
    "paths = [path[:-4] for path in paths]\n",
    "paths.sort()"
   ]
  },
  {
   "cell_type": "markdown",
   "metadata": {},
   "source": [
    "# We want only the [beat annotations](http://www.physionet.org/physiobank/annotations.shtml), each as 240 points"
   ]
  },
  {
   "cell_type": "code",
   "execution_count": 230,
   "metadata": {},
   "outputs": [],
   "source": [
    "beat_annotations = ['N', 'L', 'R', 'B',\n",
    "                    'A', 'a', 'J', 'S', 'V',\n",
    "                    'r', 'F', 'e', 'j', 'n',\n",
    "                    'E', '/', 'f', 'Q', '?'] \n",
    "# 0.5 of how much signal we want per beat\n",
    "half_qrs = 120\n"
   ]
  },
  {
   "cell_type": "markdown",
   "metadata": {},
   "source": [
    "# Convert all of the data into classified fragments"
   ]
  },
  {
   "cell_type": "code",
   "execution_count": 232,
   "metadata": {},
   "outputs": [
    {
     "name": "stderr",
     "output_type": "stream",
     "text": [
      "100%|██████████| 48/48 [00:16<00:00,  2.54it/s]\n"
     ]
    }
   ],
   "source": [
    "# Prepare the final container\n",
    "base = pd.DataFrame()\n",
    "\n",
    "for path in tqdm(paths):\n",
    "    # print 'Working with file:', path\n",
    "    ann = wf.rdann(path, 'atr')\n",
    "    record = wf.rdsamp(path)\n",
    "    \n",
    "    # We want just the signals\n",
    "    data = record.p_signals\n",
    "    \n",
    "    # Prepare containers\n",
    "    signals, classes = [], []\n",
    "    \n",
    "    # Beat extraction\n",
    "    for it, beat in enumerate(ann.anntype):\n",
    "        if beat in beat_annotations:\n",
    "            # Defend from the dumb annotation hacking my folder structure\n",
    "            if beat == '/': beat = 'C'\n",
    "                \n",
    "            sta = ann.annsamp[it] - half_qrs\n",
    "            end = ann.annsamp[it] + half_qrs\n",
    "            qrs = data[sta : end, :]\n",
    "            \n",
    "            # This may happen at the edges\n",
    "            if len(qrs) != 2 * half_qrs: continue\n",
    "            \n",
    "            # Keep the channel type in the class name\n",
    "            for ch in range(2):\n",
    "                beat_class = '{}_{}'.format(record.signame[ch], beat)\n",
    "                signals.append(qrs[:, ch])\n",
    "                classes.append(beat_class)\n",
    "                \n",
    "    new_frame = pd.DataFrame({'qrs_data' : signals,\n",
    "                              'qrs_type' : classes})\n",
    "    # Cumulate\n",
    "    base = base.append(new_frame)"
   ]
  },
  {
   "cell_type": "markdown",
   "metadata": {},
   "source": [
    "# Let's see what kinds of qrs types are available\n",
    "We only want examples with more than 200 occurances"
   ]
  },
  {
   "cell_type": "code",
   "execution_count": 233,
   "metadata": {},
   "outputs": [
    {
     "name": "stdout",
     "output_type": "stream",
     "text": [
      "MLII_N    74765\n",
      "V1_N      65579\n",
      "V1_L       8071\n",
      "MLII_L     8071\n",
      "MLII_R     7257\n",
      "MLII_V     7123\n",
      "V1_V       7029\n",
      "V5_N       5833\n",
      "V1_R       5726\n",
      "V2_N       3877\n",
      "V1_C       3619\n",
      "MLII_C     3619\n",
      "V5_C       3407\n",
      "V2_C       3407\n",
      "MLII_A     2546\n",
      "V1_A       2498\n",
      "V4_R       1531\n",
      "MLII_F      802\n",
      "V1_F        793\n",
      "V5_f        722\n",
      "V2_f        722\n",
      "Name: qrs_type, dtype: int64 (21,)\n"
     ]
    }
   ],
   "source": [
    "classes = base['qrs_type'].value_counts()\n",
    "ids = classes.iloc[:] > 700\n",
    "classes = classes.loc[ids]\n",
    "\n",
    "# Show just the top ten\n",
    "print classes, classes.shape"
   ]
  },
  {
   "cell_type": "code",
   "execution_count": 234,
   "metadata": {},
   "outputs": [],
   "source": [
    "# Extract just one exemplary qrs\n",
    "classes = classes.index\n",
    "qrs_type = classes[3]\n",
    "ids = base['qrs_type'] == qrs_type\n",
    "\n",
    "# Get all of that type\n",
    "partial = base.loc[ids]"
   ]
  },
  {
   "cell_type": "code",
   "execution_count": 235,
   "metadata": {},
   "outputs": [
    {
     "data": {
      "text/plain": [
       "<matplotlib.text.Text at 0x7f3bd2b66a50>"
      ]
     },
     "execution_count": 235,
     "metadata": {},
     "output_type": "execute_result"
    },
    {
     "data": {
      "image/png": "[encoded data removed]",
      "text/plain": [
       "<matplotlib.figure.Figure at 0x7f3bd4f2fad0>"
      ]
     },
     "metadata": {},
     "output_type": "display_data"
    }
   ],
   "source": [
    "qrs = partial.iloc[123]['qrs_data']\n",
    "plt.plot(qrs)\n",
    "plt.title('QRS of type: {}'.format(qrs_type))"
   ]
  },
  {
   "cell_type": "markdown",
   "metadata": {},
   "source": [
    "## Pure genius transformation of 1D signals into RGB images"
   ]
  },
  {
   "cell_type": "code",
   "execution_count": 236,
   "metadata": {
    "collapsed": true
   },
   "outputs": [],
   "source": [
    "# Stretch helper\n",
    "def stretch(qrs, final_length):\n",
    "    xa = np.linspace(0, 1, len(qrs))\n",
    "    xb = np.linspace(0, 1, final_length)\n",
    "    \n",
    "    longer = np.interp(xb, xa, qrs)\n",
    "    \n",
    "    return longer"
   ]
  },
  {
   "cell_type": "code",
   "execution_count": 237,
   "metadata": {
    "collapsed": true
   },
   "outputs": [],
   "source": [
    "# Box generator\n",
    "def get_box(qrs, left_offset):\n",
    "    # Up and down are trivial\n",
    "    top = qrs.min()\n",
    "    bot = qrs.max()\n",
    "    \n",
    "    # Find the middle point of the signal\n",
    "    middle = len(qrs) / 2 + left_offset\n",
    "    \n",
    "    # Make boxes with different widths, why not\n",
    "    box_half = 60 + np.random.randint(80)\n",
    "    left = middle - box_half\n",
    "    right = middle + box_half\n",
    "    \n",
    "    return left, right, top, bot"
   ]
  },
  {
   "cell_type": "code",
   "execution_count": 238,
   "metadata": {
    "collapsed": true
   },
   "outputs": [],
   "source": [
    "# Constant factors\n",
    "height = 400\n",
    "scale_factor = 4\n",
    "\n",
    "# Reshape to fit the screen\n",
    "def reshape(qrs, top_offset):\n",
    "    # Rescale the qrs (and flip)\n",
    "    qrs = -qrs\n",
    "    qrs -= qrs.min()\n",
    "    qrs /= scale_factor\n",
    "\n",
    "    # Prepare to be and y-position\n",
    "    qrs = qrs * height\n",
    "    qrs = qrs.astype('uint16')\n",
    "    qrs += top_offset\n",
    "    \n",
    "    return qrs"
   ]
  },
  {
   "cell_type": "code",
   "execution_count": 246,
   "metadata": {
    "collapsed": true
   },
   "outputs": [],
   "source": [
    "# Keep the tensorflow object_detection API standards for annotations\n",
    "def make_annotation(img, qrs_type, box, it):\n",
    "    # Prepare the xml tree ...\n",
    "    root = etree.Element('annotation')\n",
    "    \n",
    "    # Source branch\n",
    "    source = etree.SubElement(root, 'source')\n",
    "    e_width = etree.SubElement(source, 'width')\n",
    "    e_width.text = str(img.shape[0])\n",
    "    e_height = etree.SubElement(source, 'height')\n",
    "    e_height.text = str(img.shape[1])\n",
    "    e_depth = etree.SubElement(source, 'depth')\n",
    "    e_depth.text = str(img.shape[2])\n",
    "    \n",
    "    # Object branch\n",
    "    e_object = etree.SubElement(root, 'object')\n",
    "    e_class = etree.SubElement(e_object, 'class')\n",
    "    e_class.text = qrs_type\n",
    "    \n",
    "    # Bounding box\n",
    "    bndbox = etree.SubElement(e_object, 'bndbox')\n",
    "    xmin = etree.SubElement(bndbox, 'xmin')\n",
    "    xmin.text = str(box[0])\n",
    "    xmax = etree.SubElement(bndbox, 'xmax')\n",
    "    xmax.text = str(box[1])\n",
    "    \n",
    "    ymin = etree.SubElement(bndbox, 'ymin')\n",
    "    ymin.text = str(box[2])\n",
    "    ymax = etree.SubElement(bndbox, 'ymax')\n",
    "    ymax.text = str(box[3])\n",
    "    savepath = 'data/annotations/{}_{}.xml'.format(qrs_type, it)\n",
    "    \n",
    "    # Use this tree to save it \n",
    "    tree = etree.ElementTree(root)\n",
    "    tree.write(savepath)   \n",
    "    "
   ]
  },
  {
   "cell_type": "code",
   "execution_count": 248,
   "metadata": {},
   "outputs": [
    {
     "name": "stderr",
     "output_type": "stream",
     "text": [
      "100%|██████████| 21/21 [00:10<00:00,  2.09it/s]\n"
     ]
    }
   ],
   "source": [
    "# Prepare the dataset\n",
    "for qrs_type in tqdm(classes):\n",
    "    # Get all of that type\n",
    "    ids = base['qrs_type'] == qrs_type\n",
    "    partial = base.loc[ids]\n",
    "    \n",
    "    for it in range(10):\n",
    "        qrs = partial.iloc[it]['qrs_data']\n",
    "\n",
    "        # Randomize on-screen localization\n",
    "        top_offset = 130 + np.random.randint(-40, 40)\n",
    "        left_offset = 50 + np.random.randint(-45, 45)\n",
    "\n",
    "        # What what\n",
    "        qrs = stretch(qrs, 500)\n",
    "\n",
    "        # Make it fit the screen\n",
    "        qrs = reshape(qrs, top_offset)\n",
    "\n",
    "        # Extract the box\n",
    "        # left, right, top, bot = get_box(qrs, left_offset)\n",
    "        box = get_box(qrs, left_offset)\n",
    "\n",
    "        # Must be tuple\n",
    "        # pt1 = (right, top)\n",
    "        # pt2 = (left, bot)\n",
    "\n",
    "        # Prepare the width dimension\n",
    "        x = left_offset + np.arange(len(qrs))\n",
    "\n",
    "        # Merge into draw-able points\n",
    "        points = zip(x, qrs)\n",
    "        points = np.array(points)\n",
    "\n",
    "        # Prepare an empty image of little noise\n",
    "        img = np.random.randint(42, size = [600, 600, 3], dtype = 'uint8')\n",
    "\n",
    "        # Draw on the canvas\n",
    "        cv2.polylines(img, [points], False, (255,255,255), thickness = 7)\n",
    "        \n",
    "        # Make it black on white\n",
    "        img = cv2.bitwise_not(img)\n",
    "\n",
    "        # Add a bounnding box\n",
    "        # cv2.rectangle(img, pt1, pt2, (255, 30, 30), thickness = 4)\n",
    "        # plt.imshow(img)\n",
    "\n",
    "        # Write to drive\n",
    "        savepath = 'data/images/{}_{}.jpeg'.format(qrs_type, it)\n",
    "        cv2.imwrite(savepath, img)\n",
    "        \n",
    "        # Straight to drive\n",
    "        make_annotation(img, qrs_type, box, it)"
   ]
  },
  {
   "cell_type": "code",
   "execution_count": null,
   "metadata": {
    "collapsed": true
   },
   "outputs": [],
   "source": []
  },
  {
   "cell_type": "code",
   "execution_count": null,
   "metadata": {
    "collapsed": true
   },
   "outputs": [],
   "source": []
  }
 ],
 "metadata": {
  "kernelspec": {
   "display_name": "Python 2",
   "language": "python",
   "name": "python2"
  },
  "language_info": {
   "codemirror_mode": {
    "name": "ipython",
    "version": 2
   },
   "file_extension": ".py",
   "mimetype": "text/x-python",
   "name": "python",
   "nbconvert_exporter": "python",
   "pygments_lexer": "ipython2",
   "version": "2.7.12"
  }
 },
 "nbformat": 4,
 "nbformat_minor": 2
}
