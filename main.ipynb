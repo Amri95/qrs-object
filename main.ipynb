{
 "cells": [
  {
   "cell_type": "code",
   "execution_count": 110,
   "metadata": {
    "collapsed": true
   },
   "outputs": [],
   "source": [
    "import cv2\n",
    "import wfdb as wf\n",
    "import numpy as np\n",
    "import pandas as pd\n",
    "from glob import glob\n",
    "from tqdm import tqdm\n",
    "from matplotlib import pyplot as plt\n",
    "\n",
    "%matplotlib inline"
   ]
  },
  {
   "cell_type": "code",
   "execution_count": 26,
   "metadata": {
    "collapsed": true
   },
   "outputs": [],
   "source": [
    "# Prepare data access\n",
    "paths = glob('data/mitdb/*.dat')\n",
    "paths = [path[:-4] for path in paths]\n",
    "paths.sort()"
   ]
  },
  {
   "cell_type": "markdown",
   "metadata": {},
   "source": [
    "# We want only the [beat annotations](http://www.physionet.org/physiobank/annotations.shtml), each as 240 points"
   ]
  },
  {
   "cell_type": "code",
   "execution_count": 27,
   "metadata": {},
   "outputs": [],
   "source": [
    "beat_annotations = ['N', 'L', 'R', 'B',\n",
    "                    'A', 'a', 'J', 'S', 'V',\n",
    "                    'r', 'F', 'e', 'j', 'n',\n",
    "                    'E', '/', 'f', 'Q', '?'] \n",
    "# 0.5 of how much signal we want per beat\n",
    "half_qrs = 120\n"
   ]
  },
  {
   "cell_type": "markdown",
   "metadata": {},
   "source": [
    "# Convert all of the data into classified fragments"
   ]
  },
  {
   "cell_type": "code",
   "execution_count": 51,
   "metadata": {},
   "outputs": [
    {
     "name": "stderr",
     "output_type": "stream",
     "text": [
      "100%|██████████| 48/48 [00:20<00:00,  2.15it/s]\n"
     ]
    }
   ],
   "source": [
    "# Prepare the final container\n",
    "base = pd.DataFrame()\n",
    "\n",
    "for path in tqdm(paths):\n",
    "    # print 'Working with file:', path\n",
    "    ann = wf.rdann(path, 'atr')\n",
    "    record = wf.rdsamp(path)\n",
    "    \n",
    "    # We want just the signals\n",
    "    data = record.p_signals\n",
    "    \n",
    "    # Prepare containers\n",
    "    signals, classes = [], []\n",
    "    \n",
    "    # Beat extraction\n",
    "    for it, beat in enumerate(ann.anntype):\n",
    "        if beat in beat_annotations:\n",
    "            sta = ann.annsamp[it] - half_qrs\n",
    "            end = ann.annsamp[it] + half_qrs\n",
    "            qrs = data[sta : end, :]\n",
    "            \n",
    "            # This may happen at the edges\n",
    "            if len(qrs) != 2 * half_qrs: continue\n",
    "            \n",
    "            # Keep the channel type in the class name\n",
    "            for ch in range(2):\n",
    "                beat_class = '{}_{}'.format(record.signame[ch], beat)\n",
    "                signals.append(qrs[:, ch])\n",
    "                classes.append(beat_class)\n",
    "                \n",
    "    new_frame = pd.DataFrame({'qrs_data' : signals,\n",
    "                              'qrs_type' : classes})\n",
    "    # Cumulate\n",
    "    base = base.append(new_frame)"
   ]
  },
  {
   "cell_type": "markdown",
   "metadata": {},
   "source": [
    "# Let's see what kinds of qrs types are available\n",
    "We only want examples with more than 200 occurances"
   ]
  },
  {
   "cell_type": "code",
   "execution_count": 105,
   "metadata": {},
   "outputs": [
    {
     "name": "stdout",
     "output_type": "stream",
     "text": [
      "MLII_N    74765\n",
      "V1_N      65579\n",
      "V1_L       8071\n",
      "MLII_L     8071\n",
      "MLII_R     7257\n",
      "MLII_V     7123\n",
      "V1_V       7029\n",
      "V5_N       5833\n",
      "V1_R       5726\n",
      "V2_N       3877\n",
      "Name: qrs_type, dtype: int64 (21,)\n"
     ]
    }
   ],
   "source": [
    "classes = base['qrs_type'].value_counts()\n",
    "ids = classes.iloc[:] > 500\n",
    "classes = classes.loc[ids]\n",
    "\n",
    "# Show just the top ten\n",
    "print classes[:10], classes.shape"
   ]
  },
  {
   "cell_type": "code",
   "execution_count": 108,
   "metadata": {},
   "outputs": [],
   "source": [
    "# Extract just one exemplary qrs\n",
    "qrs_type = classes.index[4]\n",
    "ids = base['qrs_type'] == qrs_type\n",
    "\n",
    "# Get all of that type\n",
    "partial = base.loc[ids]"
   ]
  },
  {
   "cell_type": "code",
   "execution_count": 129,
   "metadata": {},
   "outputs": [
    {
     "data": {
      "text/plain": [
       "<matplotlib.text.Text at 0x7f3bd81d8e50>"
      ]
     },
     "execution_count": 129,
     "metadata": {},
     "output_type": "execute_result"
    },
    {
     "data": {
      "image/png": "[encoded data removed]",
      "text/plain": [
       "<matplotlib.figure.Figure at 0x7f3bd8593a50>"
      ]
     },
     "metadata": {},
     "output_type": "display_data"
    }
   ],
   "source": [
    "qrs = partial.iloc[123]['qrs_data']\n",
    "plt.plot(qrs)\n",
    "plt.title('QRS of type: {}'.format(qrs_type))"
   ]
  },
  {
   "cell_type": "markdown",
   "metadata": {},
   "source": [
    "## Pure genius transformation of 1D signals into RGB images"
   ]
  },
  {
   "cell_type": "code",
   "execution_count": 148,
   "metadata": {
    "collapsed": true
   },
   "outputs": [],
   "source": [
    "# Stretch helper\n",
    "def stretch(qrs, final_length):\n",
    "    xa = np.linspace(0, 1, len(qrs))\n",
    "    xb = np.linspace(0, 1, final_length)\n",
    "    \n",
    "    longer = np.interp(xb, xa, qrs)\n",
    "    \n",
    "    return longer"
   ]
  },
  {
   "cell_type": "code",
   "execution_count": 170,
   "metadata": {},
   "outputs": [
    {
     "data": {
      "text/plain": [
       "<matplotlib.image.AxesImage at 0x7f3bd6a51c10>"
      ]
     },
     "execution_count": 170,
     "metadata": {},
     "output_type": "execute_result"
    },
    {
     "data": {
      "image/png": "[encoded data removed]",
      "text/plain": [
       "<matplotlib.figure.Figure at 0x7f3bd6b32e50>"
      ]
     },
     "metadata": {},
     "output_type": "display_data"
    }
   ],
   "source": [
    "# Reload\n",
    "qrs = partial.iloc[143]['qrs_data']\n",
    "\n",
    "height = 400\n",
    "scale_factor = 4\n",
    "top_offset = 160 + np.random.randint(-40, 40)\n",
    "left_offset = 50\n",
    "\n",
    "# What what\n",
    "qrs = stretch(qrs, 500)\n",
    "\n",
    "# Rescale the qrs (and flip)\n",
    "qrs = -qrs\n",
    "qrs -= qrs.min()\n",
    "qrs /= scale_factor\n",
    "\n",
    "# Prepare to be and y-position\n",
    "qrs = qrs * height\n",
    "qrs = qrs.astype('uint16')\n",
    "qrs += top_offset\n",
    "\n",
    "# Extract the box\n",
    "top = qrs.min()\n",
    "bot = qrs.max()\n",
    "left = 300 - 100\n",
    "right = 300 + 100\n",
    "\n",
    "# Must be tuple\n",
    "pt1 = (right, top)\n",
    "pt2 = (left, bot)\n",
    "\n",
    "# Prepare the width dimension\n",
    "x = left_offset + np.arange(len(qrs))\n",
    "\n",
    "# Merge into draw-able points\n",
    "points = zip(x, qrs)\n",
    "points = np.array(points)\n",
    "\n",
    "# Prepare an empty image\n",
    "img = np.zeros([600, 600, 3], dtype = 'uint8')\n",
    "\n",
    "# Draw on the canvas\n",
    "cv2.polylines(img, [points], False, (255,255,255), thickness = 7)\n",
    "\n",
    "# Add a bounnding box\n",
    "cv2.rectangle(img, pt1, pt2, (255, 30, 30), thickness = 4)\n",
    "plt.imshow(img)"
   ]
  }
 ],
 "metadata": {
  "kernelspec": {
   "display_name": "Python 2",
   "language": "python",
   "name": "python2"
  },
  "language_info": {
   "codemirror_mode": {
    "name": "ipython",
    "version": 2
   },
   "file_extension": ".py",
   "mimetype": "text/x-python",
   "name": "python",
   "nbconvert_exporter": "python",
   "pygments_lexer": "ipython2",
   "version": "2.7.12"
  }
 },
 "nbformat": 4,
 "nbformat_minor": 2
}
